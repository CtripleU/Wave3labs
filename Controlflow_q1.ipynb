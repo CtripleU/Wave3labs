{
 "cells": [
  {
   "cell_type": "code",
   "execution_count": 3,
   "metadata": {},
   "outputs": [
    {
     "name": "stdout",
     "output_type": "stream",
     "text": [
      "nom_count_dict = {'Norman Taurog': 3, 'Wesley Ruggles': 2, 'Clarence Brown': 5, 'Lewis Milestone': 2, 'Josef Von Sternberg': 3, 'Frank Borzage': 2, 'King Vidor': 4, 'Frank Lloyd': 3, 'Frank Capra': 7, 'George Cukor': 6, 'Victor Schertzinger': 2, 'W. S. Van Dyke': 3, 'John Ford': 6, 'Michael Curtiz': 6, 'Henry Hathaway': 2, 'William Wyler': 13, 'Robert Z. Leonard': 2, 'Gregory La Cava': 3, 'Leo McCarey': 4, 'Sidney Franklin': 2, 'William Dieterle': 2, 'William Wellman': 3, 'Sam Wood': 4, 'Victor Fleming': 2, 'Alfred Hitchcock': 6, 'Orson Welles': 2, 'Alexander Hall': 2, 'Howard Hawks': 2, 'Mervyn LeRoy': 2, 'John Farrow': 2, 'Ernst Lubitsch': 2, 'George Stevens': 6, 'Henry King': 3, 'Billy Wilder': 9, 'Otto Preminger': 3, 'Jean Renoir': 2, 'David Lean': 8, 'Robert Siodmak': 2, 'Elia Kazan': 6, 'Henry Koster': 2, 'Edward Dmytryk': 2, 'John Huston': 6, 'Laurence Olivier': 2, 'Jean Negulesco': 2, 'Fred Zinnemann': 8, 'Anatole Litvak': 2, 'Joseph L. Mankiewicz': 5, 'Robert Rossen': 3, 'William A. Wellman': 2, 'Carol Reed': 4, 'Vincente Minnelli': 3, 'Cecil B. DeMille': 2, 'Charles Walters': 2, 'George Seaton': 2, 'Delbert Mann': 2, 'John Sturges': 2, 'Joshua Logan': 3, 'Michael Anderson': 2, 'Walter Lang': 2, 'Mark Robson': 3, 'Sidney Lumet': 5, 'Richard Brooks': 4, 'Stanley Kramer': 4, 'Robert Wise': 4, 'Jack Clayton': 2, 'Jules Dassin': 2, 'Jack Cardiff': 2, 'J. Lee Thompson': 2, 'Federico Fellini': 5, 'Jerome Robbins': 2, 'Frank Perry': 2, 'Pietro Germi': 2, 'Arthur Penn': 4, 'Robert Mulligan': 2, 'Martin Ritt': 2, 'Tony Richardson': 2, 'Peter Glenville': 2, 'Stanley Kubrick': 5, 'Robert Stevenson': 2, 'Michael Cacoyannis': 2, 'John Schlesinger': 4, 'Hiroshi Teshigahara': 2, 'Michelangelo Antonioni': 2, 'Claude Lelouch': 2, 'Mike Nichols': 5, 'Norman Jewison': 4, 'Gillo Pontecorvo': 2, 'Anthony Harvey': 2, 'Franco Zeffirelli': 2, 'George Roy Hill': 3, 'Sydney Pollack': 4, 'Costa-Gavras': 2, 'Franklin J. Schaffner': 2, 'Arthur Hiller': 2, 'Robert Altman': 6, 'Ken Russell': 2, 'Peter Bogdanovich': 2, 'William Friedkin': 3, 'Bob Fosse': 4, 'John Boorman': 3, 'Jan Troell': 2, 'Francis Ford Coppola': 4, 'George Lucas': 3, 'Ingmar Bergman': 4, 'Bernardo Bertolucci': 3, 'Roman Polanski': 4, 'Francois Truffaut': 2, 'John Cassavetes': 2, 'Milos Forman': 4, 'Alan J. Pakula': 2, 'Lina Wertmuller': 2, 'John G. Avildsen': 2, 'Steven Spielberg': 7, 'Herbert Ross': 2, 'Woody Allen': 7, 'Hal Ashby': 2, 'Warren Beatty': 3, 'Buck Henry': 2, 'Alan Parker': 3, 'Michael Cimino': 2, 'Francis Coppola': 2, 'Peter Yates': 3, 'Edouard Molinaro': 2, 'Robert Benton': 3, 'David Lynch': 4, 'Martin Scorsese': 7, 'Richard Rush': 2, 'Robert Redford': 3, 'Louis Malle': 2, 'Hugh Hudson': 2, 'Mark Rydell': 2, 'Wolfgang Petersen': 2, 'Richard Attenborough': 2, 'Bruce Beresford': 2, 'James L. Brooks': 2, 'Roland Joffe': 3, 'Hector Babenco': 2, 'Akira Kurosawa': 2, 'Peter Weir': 5, 'James Ivory': 4, 'Oliver Stone': 4, 'Adrian Lyne': 2, 'Lasse Hallstrom': 3, 'Barry Levinson': 3, 'Charles Crichton': 2, 'Kenneth Branagh': 2, 'Jim Sheridan': 3, 'Stephen Frears': 3, 'Barbet Schroeder': 2, 'Kevin Costner': 2, 'John Singleton': 2, 'Ridley Scott': 4, 'Jonathan Demme': 2, 'Clint Eastwood': 5, 'Neil Jordan': 2, 'Martin Brest': 2, 'Jane Campion': 2, 'Quentin Tarantino': 3, 'Krzysztof Kieslowski': 2, 'Robert Zemeckis': 2, 'Chris Noonan': 2, 'Tim Robbins': 2, 'Mike Figgis': 2, 'Michael Radford': 2, 'Mel Gibson': 2, 'Anthony Minghella': 2, 'Joel Coen': 4, 'Mike Leigh': 3, 'Scott Hicks': 2, 'Peter Cattaneo': 2, 'Gus Van Sant': 3, 'Curtis Hanson': 2, 'Atom Egoyan': 2, 'James Cameron': 3, 'Roberto Benigni': 2, 'John Madden': 2, 'Terrence Malick': 2, 'Spike Jonze': 2, 'Michael Mann': 2, 'M. Night Shyamalan': 2, 'Sam Mendes': 2, 'Stephen Daldry': 4, 'Ang Lee': 3, 'Steven Soderbergh': 3, 'Peter Jackson': 3, 'Ron Howard': 3, 'Rob Marshall': 2, 'Pedro Almodovar': 2, 'Fernando Meirelles': 2, 'Sofia Coppola': 2, 'Taylor Hackford': 2, 'Alexander Payne': 2, 'Bennett Miller': 2, 'Paul Haggis': 2, 'George Clooney': 2, 'Alejandro Gonzaalez Inarritu': 2, 'Paul Greengrass': 2, 'Julian Schnabel': 2, 'Jason Reitman': 3, 'Tony Gilroy': 2, 'Paul Thomas Anderson': 2, 'Ethan Coen': 3, 'David Fincher': 3, 'Danny Boyle': 2, 'Lee Daniels': 2, 'Kathryn Bigelow': 2, 'Darren Aronofsky': 2, 'David O. Russell': 2, 'Tom Hooper': 2}\n",
      "\n"
     ]
    }
   ],
   "source": [
    "#Question 1.\n",
    "#A. Create a dictionary that includes the count of Oscar nominations for each director in the nominations list.\n",
    "\n",
    "#B. Provide a dictionary with the count of Oscar wins for each director in the winners list.\n",
    "\n",
    "nominated = {1931: ['Norman Taurog', 'Wesley Ruggles', 'Clarence Brown', 'Lewis Milestone', 'Josef Von Sternberg'], 1932: ['Frank Borzage', 'King Vidor', 'Josef Von Sternberg'], 1933: ['Frank Lloyd', 'Frank Capra', 'George Cukor'], 1934: ['Frank Capra', 'Victor Schertzinger', 'W. S. Van Dyke'], 1935: ['John Ford', 'Michael Curtiz', 'Henry Hathaway', 'Frank Lloyd'], 1936: ['Frank Capra', 'William Wyler', 'Robert Z. Leonard', 'Gregory La Cava', 'W. S. Van Dyke'], 1937: ['Leo McCarey', 'Sidney Franklin', 'William Dieterle', 'Gregory La Cava', 'William Wellman'], 1938: ['Frank Capra', 'Michael Curtiz', 'Norman Taurog', 'King Vidor', 'Michael Curtiz'], 1939: ['Sam Wood', 'Frank Capra', 'John Ford', 'William Wyler', 'Victor Fleming'], 1940: ['John Ford', 'Sam Wood', 'William Wyler', 'George Cukor', 'Alfred Hitchcock'], 1941: ['John Ford', 'Orson Welles', 'Alexander Hall', 'William Wyler', 'Howard Hawks'], 1942: ['Sam Wood', 'Mervyn LeRoy', 'John Farrow', 'Michael Curtiz', 'William Wyler'], 1943: ['Michael Curtiz', 'Ernst Lubitsch', 'Clarence Brown', 'George Stevens', 'Henry King'], 1944: ['Leo McCarey', 'Billy Wilder', 'Otto Preminger', 'Alfred Hitchcock', 'Henry King'], 1945: ['Billy Wilder', 'Leo McCarey', 'Clarence Brown', 'Jean Renoir', 'Alfred Hitchcock'], 1946: ['David Lean', 'Frank Capra', 'Robert Siodmak', 'Clarence Brown', 'William Wyler'], 1947: ['Elia Kazan', 'Henry Koster', 'Edward Dmytryk', 'George Cukor', 'David Lean'], 1948: ['John Huston', 'Laurence Olivier', 'Jean Negulesco', 'Fred Zinnemann', 'Anatole Litvak'], 1949: ['Joseph L. Mankiewicz', 'Robert Rossen', 'William A. Wellman', 'Carol Reed', 'William Wyler'], 1950: ['Joseph L. Mankiewicz', 'John Huston', 'George Cukor', 'Billy Wilder', 'Carol Reed'], 1951: ['George Stevens', 'John Huston', 'Vincente Minnelli', 'William Wyler', 'Elia Kazan'], 1952: ['John Ford', 'Joseph L. Mankiewicz', 'Cecil B. DeMille', 'Fred Zinnemann', 'John Huston'], 1953: ['Fred Zinnemann', 'Charles Walters', 'William Wyler', 'George Stevens', 'Billy Wilder'], 1954: ['Elia Kazan', 'George Seaton', 'William Wellman', 'Alfred Hitchcock', 'Billy Wilder'], 1955: ['Delbert Mann', 'John Sturges', 'Elia Kazan', 'Joshua Logan', 'David Lean'], 1956: ['George Stevens', 'Michael Anderson', 'William Wyler', 'Walter Lang', 'King Vidor'], 1957: ['David Lean', 'Mark Robson', 'Joshua Logan', 'Sidney Lumet', 'Billy Wilder'], 1958: ['Richard Brooks', 'Stanley Kramer', 'Robert Wise', 'Mark Robson', 'Vincente Minnelli'], 1959: ['George Stevens', 'Fred Zinnemann', 'Jack Clayton', 'Billy Wilder', 'William Wyler'], 1960: ['Billy Wilder', 'Jules Dassin', 'Alfred Hitchcock', 'Jack Cardiff', 'Fred Zinnemann'], 1961: ['J. Lee Thompson', 'Robert Rossen', 'Stanley Kramer', 'Federico Fellini', 'Robert Wise', 'Jerome Robbins'], 1962: ['David Lean', 'Frank Perry', 'Pietro Germi', 'Arthur Penn', 'Robert Mulligan'], 1963: ['Elia Kazan', 'Otto Preminger', 'Federico Fellini', 'Martin Ritt', 'Tony Richardson'], 1964: ['George Cukor', 'Peter Glenville', 'Stanley Kubrick', 'Robert Stevenson', 'Michael Cacoyannis'], 1965: ['William Wyler', 'John Schlesinger', 'David Lean', 'Hiroshi Teshigahara', 'Robert Wise'], 1966: ['Fred Zinnemann', 'Michelangelo Antonioni', 'Claude Lelouch', 'Richard Brooks', 'Mike Nichols'], 1967: ['Arthur Penn', 'Stanley Kramer', 'Richard Brooks', 'Norman Jewison', 'Mike Nichols'], 1968: ['Carol Reed', 'Gillo Pontecorvo', 'Anthony Harvey', 'Franco Zeffirelli', 'Stanley Kubrick'], 1969: ['John Schlesinger', 'Arthur Penn', 'George Roy Hill', 'Sydney Pollack', 'Costa-Gavras'], 1970: ['Franklin J. Schaffner', 'Federico Fellini', 'Arthur Hiller', 'Robert Altman', 'Ken Russell'], 1971: ['Stanley Kubrick', 'Norman Jewison', 'Peter Bogdanovich', 'John Schlesinger', 'William Friedkin'], 1972: ['Bob Fosse', 'John Boorman', 'Jan Troell', 'Francis Ford Coppola', 'Joseph L. Mankiewicz'], 1973: ['George Roy Hill', 'George Lucas', 'Ingmar Bergman', 'William Friedkin', 'Bernardo Bertolucci'], 1974: ['Francis Ford Coppola', 'Roman Polanski', 'Francois Truffaut', 'Bob Fosse', 'John Cassavetes'], 1975: ['Federico Fellini', 'Stanley Kubrick', 'Sidney Lumet', 'Robert Altman', 'Milos Forman'], 1976: ['Alan J. Pakula', 'Ingmar Bergman', 'Sidney Lumet', 'Lina Wertmuller', 'John G. Avildsen'], 1977: ['Steven Spielberg', 'Fred Zinnemann', 'George Lucas', 'Herbert Ross', 'Woody Allen'], 1978: ['Hal Ashby', 'Warren Beatty', 'Buck Henry', 'Woody Allen', 'Alan Parker', 'Michael Cimino'], 1979: ['Bob Fosse', 'Francis Coppola', 'Peter Yates', 'Edouard Molinaro', 'Robert Benton'], 1980: ['David Lynch', 'Martin Scorsese', 'Richard Rush', 'Roman Polanski', 'Robert Redford'], 1981: ['Louis Malle', 'Hugh Hudson', 'Mark Rydell', 'Steven Spielberg', 'Warren Beatty'], 1982: ['Wolfgang Petersen', 'Steven Spielberg', 'Sydney Pollack', 'Sidney Lumet', 'Richard Attenborough'], 1983: ['Peter Yates', 'Ingmar Bergman', 'Mike Nichols', 'Bruce Beresford', 'James L. Brooks'], 1984: ['Woody Allen', 'Roland Joffe', 'David Lean', 'Robert Benton', 'Milos Forman'], 1985: ['Hector Babenco', 'John Huston', 'Akira Kurosawa', 'Peter Weir', 'Sydney Pollack'], 1986: ['David Lynch', 'Woody Allen', 'Roland Joffe', 'James Ivory', 'Oliver Stone'], 1987: ['Bernardo Bertolucci', 'Adrian Lyne', 'John Boorman', 'Norman Jewison', 'Lasse Hallstrom'], 1988: ['Barry Levinson', 'Charles Crichton', 'Martin Scorsese', 'Alan Parker', 'Mike Nichols'], 1989: ['Woody Allen', 'Peter Weir', 'Kenneth Branagh', 'Jim Sheridan', 'Oliver Stone'], 1990: ['Francis Ford Coppola', 'Martin Scorsese', 'Stephen Frears', 'Barbet Schroeder', 'Kevin Costner'], 1991: ['John Singleton', 'Barry Levinson', 'Oliver Stone', 'Ridley Scott', 'Jonathan Demme'], 1992: ['Clint Eastwood', 'Neil Jordan', 'James Ivory', 'Robert Altman', 'Martin Brest'], 1993: ['Jim Sheridan', 'Jane Campion', 'James Ivory', 'Robert Altman', 'Steven Spielberg'], 1994: ['Woody Allen', 'Quentin Tarantino', 'Robert Redford', 'Krzysztof Kieslowski', 'Robert Zemeckis'], 1995: ['Chris Noonan', 'Tim Robbins', 'Mike Figgis', 'Michael Radford', 'Mel Gibson'], 1996: ['Anthony Minghella', 'Joel Coen', 'Milos Forman', 'Mike Leigh', 'Scott Hicks'], 1997: ['Peter Cattaneo', 'Gus Van Sant', 'Curtis Hanson', 'Atom Egoyan', 'James Cameron'], 1998: ['Roberto Benigni', 'John Madden', 'Terrence Malick', 'Peter Weir', 'Steven Spielberg'], 1999: ['Spike Jonze', 'Lasse Hallstrom', 'Michael Mann', 'M. Night Shyamalan', 'Sam Mendes'], 2000: ['Stephen Daldry', 'Ang Lee', 'Steven Soderbergh', 'Ridley Scott', 'Steven Soderbergh'], 2001: ['Ridley Scott', 'Robert Altman', 'Peter Jackson', 'David Lynch', 'Ron Howard'], 2002: ['Rob Marshall', 'Martin Scorsese', 'Stephen Daldry', 'Pedro Almodovar', 'Roman Polanski'], 2003: ['Fernando Meirelles', 'Sofia Coppola', 'Peter Weir', 'Clint Eastwood', 'Peter Jackson'], 2004: ['Martin Scorsese', 'Taylor Hackford', 'Alexander Payne', 'Mike Leigh', 'Clint Eastwood'], 2005: ['Ang Lee', 'Bennett Miller', 'Paul Haggis', 'George Clooney', 'Steven Spielberg'], 2006: ['Alejandro Gonzaalez Inarritu', 'Clint Eastwood', 'Stephen Frears', 'Paul Greengrass', 'Martin Scorsese'], 2007: ['Julian Schnabel', 'Jason Reitman', 'Tony Gilroy', 'Paul Thomas Anderson', 'Joel Coen', 'Ethan Coen'], 2008: ['David Fincher', 'Ron Howard', 'Gus Van Sant', 'Stephen Daldry', 'Danny Boyle'], 2009: ['James Cameron', 'Quentin Tarantino', 'Lee Daniels', 'Jason Reitman', 'Kathryn Bigelow'], 2010: ['Darren Aronofsky', 'David O. Russell', 'David Fincher', 'Ethan Coen', 'Joel Coen', 'Tom Hooper']}\n",
    "winners = {1931: ['Norman Taurog'], 1932: ['Frank Borzage'], 1933: ['Frank Lloyd'], 1934: ['Frank Capra'], 1935: ['John Ford'], 1936: ['Frank Capra'], 1937: ['Leo McCarey'], 1938: ['Frank Capra'], 1939: ['Victor Fleming'], 1940: ['John Ford'], 1941: ['John Ford'], 1942: ['William Wyler'], 1943: ['Michael Curtiz'], 1944: ['Leo McCarey'], 1945: ['Billy Wilder'], 1946: ['William Wyler'], 1947: ['Elia Kazan'], 1948: ['John Huston'], 1949: ['Joseph L. Mankiewicz'], 1950: ['Joseph L. Mankiewicz'], 1951: ['George Stevens'], 1952: ['John Ford'], 1953: ['Fred Zinnemann'], 1954: ['Elia Kazan'], 1955: ['Delbert Mann'], 1956: ['George Stevens'], 1957: ['David Lean'], 1958: ['Vincente Minnelli'], 1959: ['William Wyler'], 1960: ['Billy Wilder'], 1961: ['Jerome Robbins', 'Robert Wise'], 1962: ['David Lean'], 1963: ['Tony Richardson'], 1964: ['George Cukor'], 1965: ['Robert Wise'], 1966: ['Fred Zinnemann'], 1967: ['Mike Nichols'], 1968: ['Carol Reed'], 1969: ['John Schlesinger'], 1970: ['Franklin J. Schaffner'], 1971: ['William Friedkin'], 1972: ['Bob Fosse'], 1973: ['George Roy Hill'], 1974: ['Francis Ford Coppola'], 1975: ['Milos Forman'], 1976: ['John G. Avildsen'], 1977: ['Woody Allen'], 1978: ['Michael Cimino'], 1979: ['Robert Benton'], 1980: ['Robert Redford'], 1981: ['Warren Beatty'], 1982: ['Richard Attenborough'], 1983: ['James L. Brooks'], 1984: ['Milos Forman'], 1985: ['Sydney Pollack'], 1986: ['Oliver Stone'], 1987: ['Bernardo Bertolucci'], 1988: ['Barry Levinson'], 1989: ['Oliver Stone'], 1990: ['Kevin Costner'], 1991: ['Jonathan Demme'], 1992: ['Clint Eastwood'], 1993: ['Steven Spielberg'], 1994: ['Robert Zemeckis'], 1995: ['Mel Gibson'], 1996: ['Anthony Minghella'], 1997: ['James Cameron'], 1998: ['Steven Spielberg'], 1999: ['Sam Mendes'], 2000: ['Steven Soderbergh'], 2001: ['Ron Howard'], 2002: ['Roman Polanski'], 2003: ['Peter Jackson'], 2004: ['Clint Eastwood'], 2005: ['Ang Lee'], 2006: ['Martin Scorsese'], 2007: ['Ethan Coen', 'Joel Coen'], 2008: ['Danny Boyle'], 2009: ['Kathryn Bigelow'], 2010: ['Tom Hooper']}\n",
    "\n",
    "### 1A: Create dictionary with the count of Oscar nominations for each director \n",
    "nom_count_dict = {}\n",
    "# Add your code here\n",
    "\n",
    "for year, list_name in nominated.items():\n",
    "    for name in list_name:\n",
    "        if name not in nom_count_dict:\n",
    "            nom_count_dict[name] = 1\n",
    "        if name in nom_count_dict:\n",
    "            nom_count_dict[name] += 1\n",
    "            \n",
    "print(\"nom_count_dict = {}\\n\".format(nom_count_dict))\n"
   ]
  },
  {
   "cell_type": "code",
   "execution_count": 4,
   "metadata": {},
   "outputs": [
    {
     "name": "stdout",
     "output_type": "stream",
     "text": [
      "win_count_dict = {'Norman Taurog': 2, 'Frank Borzage': 2, 'Frank Lloyd': 2, 'Frank Capra': 4, 'John Ford': 5, 'Leo McCarey': 3, 'Victor Fleming': 2, 'William Wyler': 4, 'Michael Curtiz': 2, 'Billy Wilder': 3, 'Elia Kazan': 3, 'John Huston': 2, 'Joseph L. Mankiewicz': 3, 'George Stevens': 3, 'Fred Zinnemann': 3, 'Delbert Mann': 2, 'David Lean': 3, 'Vincente Minnelli': 2, 'Jerome Robbins': 2, 'Robert Wise': 3, 'Tony Richardson': 2, 'George Cukor': 2, 'Mike Nichols': 2, 'Carol Reed': 2, 'John Schlesinger': 2, 'Franklin J. Schaffner': 2, 'William Friedkin': 2, 'Bob Fosse': 2, 'George Roy Hill': 2, 'Francis Ford Coppola': 2, 'Milos Forman': 3, 'John G. Avildsen': 2, 'Woody Allen': 2, 'Michael Cimino': 2, 'Robert Benton': 2, 'Robert Redford': 2, 'Warren Beatty': 2, 'Richard Attenborough': 2, 'James L. Brooks': 2, 'Sydney Pollack': 2, 'Oliver Stone': 3, 'Bernardo Bertolucci': 2, 'Barry Levinson': 2, 'Kevin Costner': 2, 'Jonathan Demme': 2, 'Clint Eastwood': 3, 'Steven Spielberg': 3, 'Robert Zemeckis': 2, 'Mel Gibson': 2, 'Anthony Minghella': 2, 'James Cameron': 2, 'Sam Mendes': 2, 'Steven Soderbergh': 2, 'Ron Howard': 2, 'Roman Polanski': 2, 'Peter Jackson': 2, 'Ang Lee': 2, 'Martin Scorsese': 2, 'Ethan Coen': 2, 'Joel Coen': 2, 'Danny Boyle': 2, 'Kathryn Bigelow': 2, 'Tom Hooper': 2}\n"
     ]
    }
   ],
   "source": [
    "### 1B: Create dictionary with the count of Oscar wins for each director\n",
    "win_count_dict = {}\n",
    "# Add your code here\n",
    "\n",
    "for year, list_wins in winners.items():\n",
    "    for wins in list_wins:\n",
    "        if wins not in win_count_dict:\n",
    "            win_count_dict[wins] = 1\n",
    "        if wins in win_count_dict:\n",
    "            win_count_dict[wins] += 1\n",
    "            \n",
    "\n",
    "print(\"win_count_dict = {}\".format(win_count_dict))"
   ]
  },
  {
   "cell_type": "code",
   "execution_count": 7,
   "metadata": {},
   "outputs": [
    {
     "data": {
      "text/plain": [
       "dict_items([('Norman Taurog', 2), ('Frank Borzage', 2), ('Frank Lloyd', 2), ('Frank Capra', 4), ('John Ford', 5), ('Leo McCarey', 3), ('Victor Fleming', 2), ('William Wyler', 4), ('Michael Curtiz', 2), ('Billy Wilder', 3), ('Elia Kazan', 3), ('John Huston', 2), ('Joseph L. Mankiewicz', 3), ('George Stevens', 3), ('Fred Zinnemann', 3), ('Delbert Mann', 2), ('David Lean', 3), ('Vincente Minnelli', 2), ('Jerome Robbins', 2), ('Robert Wise', 3), ('Tony Richardson', 2), ('George Cukor', 2), ('Mike Nichols', 2), ('Carol Reed', 2), ('John Schlesinger', 2), ('Franklin J. Schaffner', 2), ('William Friedkin', 2), ('Bob Fosse', 2), ('George Roy Hill', 2), ('Francis Ford Coppola', 2), ('Milos Forman', 3), ('John G. Avildsen', 2), ('Woody Allen', 2), ('Michael Cimino', 2), ('Robert Benton', 2), ('Robert Redford', 2), ('Warren Beatty', 2), ('Richard Attenborough', 2), ('James L. Brooks', 2), ('Sydney Pollack', 2), ('Oliver Stone', 3), ('Bernardo Bertolucci', 2), ('Barry Levinson', 2), ('Kevin Costner', 2), ('Jonathan Demme', 2), ('Clint Eastwood', 3), ('Steven Spielberg', 3), ('Robert Zemeckis', 2), ('Mel Gibson', 2), ('Anthony Minghella', 2), ('James Cameron', 2), ('Sam Mendes', 2), ('Steven Soderbergh', 2), ('Ron Howard', 2), ('Roman Polanski', 2), ('Peter Jackson', 2), ('Ang Lee', 2), ('Martin Scorsese', 2), ('Ethan Coen', 2), ('Joel Coen', 2), ('Danny Boyle', 2), ('Kathryn Bigelow', 2), ('Tom Hooper', 2)])"
      ]
     },
     "execution_count": 7,
     "metadata": {},
     "output_type": "execute_result"
    }
   ],
   "source": [
    "win_count_dict.items()"
   ]
  },
  {
   "cell_type": "code",
   "execution_count": null,
   "metadata": {},
   "outputs": [],
   "source": []
  }
 ],
 "metadata": {
  "kernelspec": {
   "display_name": "Python 3",
   "language": "python",
   "name": "python3"
  },
  "language_info": {
   "codemirror_mode": {
    "name": "ipython",
    "version": 3
   },
   "file_extension": ".py",
   "mimetype": "text/x-python",
   "name": "python",
   "nbconvert_exporter": "python",
   "pygments_lexer": "ipython3",
   "version": "3.7.4"
  }
 },
 "nbformat": 4,
 "nbformat_minor": 2
}
